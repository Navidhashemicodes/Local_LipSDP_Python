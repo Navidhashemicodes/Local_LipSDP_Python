{
 "cells": [
  {
   "cell_type": "code",
   "execution_count": 1,
   "metadata": {},
   "outputs": [
    {
     "name": "stderr",
     "output_type": "stream",
     "text": [
      "C:\\Users\\navid\\anaconda3\\envs\\myenv\\lib\\site-packages\\torch\\serialization.py:1113: SourceChangeWarning: source code of class 'torch.nn.modules.container.Sequential' has changed. you can retrieve the original source code by accessing the object's source attribute or set `torch.nn.Module.dump_patches = True` and use the patch tool to revert the changes.\n",
      "  warnings.warn(msg, SourceChangeWarning)\n",
      "C:\\Users\\navid\\anaconda3\\envs\\myenv\\lib\\site-packages\\torch\\serialization.py:1113: SourceChangeWarning: source code of class 'torch.nn.modules.linear.Linear' has changed. you can retrieve the original source code by accessing the object's source attribute or set `torch.nn.Module.dump_patches = True` and use the patch tool to revert the changes.\n",
      "  warnings.warn(msg, SourceChangeWarning)\n",
      "C:\\Users\\navid\\anaconda3\\envs\\myenv\\lib\\site-packages\\torch\\serialization.py:1113: SourceChangeWarning: source code of class 'torch.nn.modules.activation.ReLU' has changed. you can retrieve the original source code by accessing the object's source attribute or set `torch.nn.Module.dump_patches = True` and use the patch tool to revert the changes.\n",
      "  warnings.warn(msg, SourceChangeWarning)\n",
      "grad_poly: 100%|██████████| 8000/8000.0 [00:01<00:00, 4474.38it/s]\n",
      "h_poly:   1%|          | 3458/302621 [00:18<26:27, 188.46it/s]\n"
     ]
    },
    {
     "ename": "KeyboardInterrupt",
     "evalue": "",
     "output_type": "error",
     "traceback": [
      "\u001b[1;31m---------------------------------------------------------------------------\u001b[0m",
      "\u001b[1;31mKeyboardInterrupt\u001b[0m                         Traceback (most recent call last)",
      "Cell \u001b[1;32mIn[1], line 22\u001b[0m\n\u001b[0;32m     19\u001b[0m epsilon\u001b[38;5;241m=\u001b[39mepsilon\u001b[38;5;241m*\u001b[39mnp\u001b[38;5;241m.\u001b[39mones(X\u001b[38;5;241m.\u001b[39mshape)\n\u001b[0;32m     20\u001b[0m repeats \u001b[38;5;241m=\u001b[39m \u001b[38;5;241m1\u001b[39m\n\u001b[1;32m---> 22\u001b[0m \u001b[43mcompare_bounds\u001b[49m\u001b[43m(\u001b[49m\u001b[43mlayer_configs\u001b[49m\u001b[43m,\u001b[49m\u001b[43mnet\u001b[49m\u001b[43m,\u001b[49m\u001b[43mX\u001b[49m\u001b[43m,\u001b[49m\u001b[43mepsilon\u001b[49m\u001b[43m,\u001b[49m\u001b[43mrepeats\u001b[49m\u001b[43m)\u001b[49m\n",
      "File \u001b[1;32m~\\GitHub_pages_control\\Local_LipSDP_Pythonversion\\examples\\Comparing\\Figure_5a\\lipopt-master\\new_compare_lp_naive_serial.py:72\u001b[0m, in \u001b[0;36mcompare_bounds\u001b[1;34m(layer_configs, network, X, epsilon, repeats)\u001b[0m\n\u001b[0;32m     70\u001b[0m g, lb, ub \u001b[38;5;241m=\u001b[39m fc\u001b[38;5;241m.\u001b[39mnew_krivine_constr(p\u001b[38;5;241m=\u001b[39m\u001b[38;5;241m1\u001b[39m, lb\u001b[38;5;241m=\u001b[39mlb, ub\u001b[38;5;241m=\u001b[39mub)\n\u001b[0;32m     71\u001b[0m start \u001b[38;5;241m=\u001b[39m timer()\n\u001b[1;32m---> 72\u001b[0m m \u001b[38;5;241m=\u001b[39m \u001b[43mpo\u001b[49m\u001b[38;5;241;43m.\u001b[39;49m\u001b[43mKrivineOptimizer\u001b[49m\u001b[38;5;241;43m.\u001b[39;49m\u001b[43mnew_maximize_serial\u001b[49m\u001b[43m(\u001b[49m\n\u001b[0;32m     73\u001b[0m \u001b[43m        \u001b[49m\u001b[43mf\u001b[49m\u001b[43m,\u001b[49m\u001b[43m \u001b[49m\u001b[43mg\u001b[49m\u001b[43m,\u001b[49m\u001b[43m \u001b[49m\u001b[43mlb\u001b[49m\u001b[38;5;241;43m=\u001b[39;49m\u001b[43mlb\u001b[49m\u001b[43m,\u001b[49m\u001b[43m \u001b[49m\u001b[43mub\u001b[49m\u001b[38;5;241;43m=\u001b[39;49m\u001b[43mub\u001b[49m\u001b[43m,\u001b[49m\u001b[43m \u001b[49m\u001b[43mdeg\u001b[49m\u001b[38;5;241;43m=\u001b[39;49m\u001b[38;5;28;43mlen\u001b[39;49m\u001b[43m(\u001b[49m\u001b[43mweights\u001b[49m\u001b[43m)\u001b[49m\u001b[43m,\u001b[49m\n\u001b[0;32m     74\u001b[0m \u001b[43m        \u001b[49m\u001b[43mstart_indices\u001b[49m\u001b[38;5;241;43m=\u001b[39;49m\u001b[43mfc\u001b[49m\u001b[38;5;241;43m.\u001b[39;49m\u001b[43mstart_indices\u001b[49m\u001b[43m,\u001b[49m\n\u001b[0;32m     75\u001b[0m \u001b[43m        \u001b[49m\u001b[43mlayer_config\u001b[49m\u001b[38;5;241;43m=\u001b[39;49m\u001b[43mlayer_config\u001b[49m\u001b[43m,\u001b[49m\n\u001b[0;32m     76\u001b[0m \u001b[43m        \u001b[49m\u001b[43msolver\u001b[49m\u001b[38;5;241;43m=\u001b[39;49m\u001b[38;5;124;43m'\u001b[39;49m\u001b[38;5;124;43mgurobi\u001b[39;49m\u001b[38;5;124;43m'\u001b[39;49m\u001b[43m,\u001b[49m\u001b[43m \u001b[49m\u001b[43mname\u001b[49m\u001b[38;5;241;43m=\u001b[39;49m\u001b[38;5;124;43m'\u001b[39;49m\u001b[38;5;124;43m'\u001b[39;49m\u001b[43m)\u001b[49m\n\u001b[0;32m     77\u001b[0m end \u001b[38;5;241m=\u001b[39m timer()\n\u001b[0;32m     78\u001b[0m \u001b[38;5;28mprint\u001b[39m(\u001b[38;5;124m'\u001b[39m\u001b[38;5;124mtime elapsed: \u001b[39m\u001b[38;5;124m'\u001b[39m, end \u001b[38;5;241m-\u001b[39m start)\n",
      "File \u001b[1;32m~\\GitHub_pages_control\\Local_LipSDP_Pythonversion\\examples\\Comparing\\Figure_5a\\lipopt-master\\old_code\\polynomials.py:214\u001b[0m, in \u001b[0;36mKrivineOptimizer.new_maximize_serial\u001b[1;34m(cls, f, g, lb, ub, deg, start_indices, layer_config, decomp, sparsity, weights, solver, name, reload, use_filename)\u001b[0m\n\u001b[0;32m    211\u001b[0m G_g_1 \u001b[38;5;241m=\u001b[39m ub \u001b[38;5;241m-\u001b[39m g\n\u001b[0;32m    212\u001b[0m G_g \u001b[38;5;241m=\u001b[39m np\u001b[38;5;241m.\u001b[39mcolumn_stack((G_g_0, G_g_1))\n\u001b[1;32m--> 214\u001b[0m certificate, n \u001b[38;5;241m=\u001b[39m \u001b[38;5;28;43mcls\u001b[39;49m\u001b[38;5;241;43m.\u001b[39;49m\u001b[43m_new_full_certificate_serial\u001b[49m\u001b[43m(\u001b[49m\n\u001b[0;32m    215\u001b[0m \u001b[43m        \u001b[49m\u001b[43mG_g\u001b[49m\u001b[43m,\u001b[49m\u001b[43m \u001b[49m\u001b[43mdeg\u001b[49m\u001b[38;5;241;43m=\u001b[39;49m\u001b[43mdeg\u001b[49m\u001b[43m,\u001b[49m\u001b[43m \u001b[49m\u001b[43mstart_indices\u001b[49m\u001b[38;5;241;43m=\u001b[39;49m\u001b[43mstart_indices\u001b[49m\u001b[43m,\u001b[49m\u001b[43m \u001b[49m\u001b[43mdecomp\u001b[49m\u001b[38;5;241;43m=\u001b[39;49m\u001b[43mdecomp\u001b[49m\u001b[43m,\u001b[49m\n\u001b[0;32m    216\u001b[0m \u001b[43m        \u001b[49m\u001b[43mweights\u001b[49m\u001b[38;5;241;43m=\u001b[39;49m\u001b[43mweights\u001b[49m\u001b[43m)\u001b[49m\n\u001b[0;32m    217\u001b[0m d \u001b[38;5;241m=\u001b[39m \u001b[38;5;28mdict\u001b[39m(certificate)\n\u001b[0;32m    219\u001b[0m \u001b[38;5;28;01mif\u001b[39;00m solver \u001b[38;5;241m==\u001b[39m \u001b[38;5;124m'\u001b[39m\u001b[38;5;124mgurobi\u001b[39m\u001b[38;5;124m'\u001b[39m:\n",
      "File \u001b[1;32m~\\GitHub_pages_control\\Local_LipSDP_Pythonversion\\examples\\Comparing\\Figure_5a\\lipopt-master\\old_code\\polynomials.py:538\u001b[0m, in \u001b[0;36mKrivineOptimizer._new_full_certificate_serial\u001b[1;34m(cls, g, deg, start_indices, decomp, weights)\u001b[0m\n\u001b[0;32m    536\u001b[0m     \u001b[38;5;28;01mraise\u001b[39;00m(\u001b[38;5;124m\"\u001b[39m\u001b[38;5;124mUnknown decomposition\u001b[39m\u001b[38;5;124m\"\u001b[39m)\n\u001b[0;32m    537\u001b[0m \u001b[38;5;66;03m# print(\"Number of LP constraints: {}\".format(len(iter_)))\u001b[39;00m\n\u001b[1;32m--> 538\u001b[0m result \u001b[38;5;241m=\u001b[39m [\u001b[38;5;28mcls\u001b[39m\u001b[38;5;241m.\u001b[39m_new_h_poly(idx\u001b[38;5;241m=\u001b[39midx, coefs\u001b[38;5;241m=\u001b[39mcoefs, G_g\u001b[38;5;241m=\u001b[39mg) \u001b[38;5;28;01mfor\u001b[39;00m idx, coefs \u001b[38;5;129;01min\u001b[39;00m iter_]\n\u001b[0;32m    540\u001b[0m \u001b[38;5;28;01mfor\u001b[39;00m i, h_poly \u001b[38;5;129;01min\u001b[39;00m \u001b[38;5;28menumerate\u001b[39m(result):\n\u001b[0;32m    541\u001b[0m     \u001b[38;5;28;01mfor\u001b[39;00m k, v \u001b[38;5;129;01min\u001b[39;00m h_poly\u001b[38;5;241m.\u001b[39mitems():\n",
      "File \u001b[1;32m~\\GitHub_pages_control\\Local_LipSDP_Pythonversion\\examples\\Comparing\\Figure_5a\\lipopt-master\\old_code\\polynomials.py:538\u001b[0m, in \u001b[0;36m<listcomp>\u001b[1;34m(.0)\u001b[0m\n\u001b[0;32m    536\u001b[0m     \u001b[38;5;28;01mraise\u001b[39;00m(\u001b[38;5;124m\"\u001b[39m\u001b[38;5;124mUnknown decomposition\u001b[39m\u001b[38;5;124m\"\u001b[39m)\n\u001b[0;32m    537\u001b[0m \u001b[38;5;66;03m# print(\"Number of LP constraints: {}\".format(len(iter_)))\u001b[39;00m\n\u001b[1;32m--> 538\u001b[0m result \u001b[38;5;241m=\u001b[39m [\u001b[38;5;28mcls\u001b[39m\u001b[38;5;241m.\u001b[39m_new_h_poly(idx\u001b[38;5;241m=\u001b[39midx, coefs\u001b[38;5;241m=\u001b[39mcoefs, G_g\u001b[38;5;241m=\u001b[39mg) \u001b[38;5;28;01mfor\u001b[39;00m idx, coefs \u001b[38;5;129;01min\u001b[39;00m iter_]\n\u001b[0;32m    540\u001b[0m \u001b[38;5;28;01mfor\u001b[39;00m i, h_poly \u001b[38;5;129;01min\u001b[39;00m \u001b[38;5;28menumerate\u001b[39m(result):\n\u001b[0;32m    541\u001b[0m     \u001b[38;5;28;01mfor\u001b[39;00m k, v \u001b[38;5;129;01min\u001b[39;00m h_poly\u001b[38;5;241m.\u001b[39mitems():\n",
      "File \u001b[1;32m~\\anaconda3\\envs\\myenv\\lib\\site-packages\\tqdm\\std.py:1181\u001b[0m, in \u001b[0;36mtqdm.__iter__\u001b[1;34m(self)\u001b[0m\n\u001b[0;32m   1178\u001b[0m time \u001b[38;5;241m=\u001b[39m \u001b[38;5;28mself\u001b[39m\u001b[38;5;241m.\u001b[39m_time\n\u001b[0;32m   1180\u001b[0m \u001b[38;5;28;01mtry\u001b[39;00m:\n\u001b[1;32m-> 1181\u001b[0m     \u001b[38;5;28;01mfor\u001b[39;00m obj \u001b[38;5;129;01min\u001b[39;00m iterable:\n\u001b[0;32m   1182\u001b[0m         \u001b[38;5;28;01myield\u001b[39;00m obj\n\u001b[0;32m   1183\u001b[0m         \u001b[38;5;66;03m# Update and possibly print the progressbar.\u001b[39;00m\n\u001b[0;32m   1184\u001b[0m         \u001b[38;5;66;03m# Note: does not call self.update(1) for speed optimisation.\u001b[39;00m\n",
      "File \u001b[1;32m~\\GitHub_pages_control\\Local_LipSDP_Pythonversion\\examples\\Comparing\\Figure_5a\\lipopt-master\\old_code\\polynomials.py:318\u001b[0m, in \u001b[0;36mKrivineOptimizer._alpha_beta\u001b[1;34m(cls, len_g, deg, offset, var)\u001b[0m\n\u001b[0;32m    316\u001b[0m x[\u001b[38;5;241m1\u001b[39m:] \u001b[38;5;241m-\u001b[39m\u001b[38;5;241m=\u001b[39m x[:\u001b[38;5;241m-\u001b[39m\u001b[38;5;241m1\u001b[39m]\n\u001b[0;32m    317\u001b[0m x \u001b[38;5;241m-\u001b[39m\u001b[38;5;241m=\u001b[39m \u001b[38;5;241m1\u001b[39m\n\u001b[1;32m--> 318\u001b[0m x \u001b[38;5;241m=\u001b[39m \u001b[43mx\u001b[49m\u001b[38;5;241;43m.\u001b[39;49m\u001b[43mreshape\u001b[49m\u001b[43m(\u001b[49m\u001b[43mlen_g\u001b[49m\u001b[43m,\u001b[49m\u001b[43m \u001b[49m\u001b[38;5;241;43m2\u001b[39;49m\u001b[43m)\u001b[49m\n\u001b[0;32m    319\u001b[0m colsums \u001b[38;5;241m=\u001b[39m x\u001b[38;5;241m.\u001b[39msum(axis\u001b[38;5;241m=\u001b[39m\u001b[38;5;241m1\u001b[39m)\n\u001b[0;32m    320\u001b[0m nonzero \u001b[38;5;241m=\u001b[39m np\u001b[38;5;241m.\u001b[39mnonzero(colsums)[\u001b[38;5;241m0\u001b[39m]\n",
      "\u001b[1;31mKeyboardInterrupt\u001b[0m: "
     ]
    }
   ],
   "source": [
    "from new_compare_lp_naive_serial import compare_bounds\n",
    "import numpy as np\n",
    "import torch\n",
    "import torch.nn as nn\n",
    "\n",
    "layer_configs = [(20, 20, 20, 1), ]\n",
    "layer_config=layer_configs[0]\n",
    "\n",
    "net=torch.load('Comparison.pt')\n",
    "\n",
    "\n",
    "epsis = np.array([0.001, 0.003, 0.007, 0.01, 0.04, 0.1, 0.3, 0.7, 2])\n",
    "\n",
    "for _ in epsis:\n",
    "    \n",
    "    X = torch.Tensor(np.zeros((layer_config[0],1)))\n",
    "    epsilon=torch.Tensor([_])\n",
    "    epsilon=epsilon*np.ones(X.shape)\n",
    "    repeats = 1\n",
    "\n",
    "    compare_bounds(layer_configs,net,X,epsilon,repeats)"
   ]
  },
  {
   "cell_type": "code",
   "execution_count": null,
   "metadata": {},
   "outputs": [],
   "source": []
  }
 ],
 "metadata": {
  "kernelspec": {
   "display_name": "Python 3 (ipykernel)",
   "language": "python",
   "name": "python3"
  },
  "language_info": {
   "codemirror_mode": {
    "name": "ipython",
    "version": 3
   },
   "file_extension": ".py",
   "mimetype": "text/x-python",
   "name": "python",
   "nbconvert_exporter": "python",
   "pygments_lexer": "ipython3",
   "version": "3.10.13"
  }
 },
 "nbformat": 4,
 "nbformat_minor": 4
}
