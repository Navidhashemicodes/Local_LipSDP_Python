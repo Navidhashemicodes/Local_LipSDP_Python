{
 "cells": [
  {
   "cell_type": "code",
   "execution_count": null,
   "metadata": {},
   "outputs": [
    {
     "name": "stderr",
     "output_type": "stream",
     "text": [
      "C:\\Users\\navid\\anaconda3\\envs\\myenv\\lib\\site-packages\\torch\\serialization.py:1113: SourceChangeWarning: source code of class 'torch.nn.modules.container.Sequential' has changed. you can retrieve the original source code by accessing the object's source attribute or set `torch.nn.Module.dump_patches = True` and use the patch tool to revert the changes.\n",
      "  warnings.warn(msg, SourceChangeWarning)\n",
      "C:\\Users\\navid\\anaconda3\\envs\\myenv\\lib\\site-packages\\torch\\serialization.py:1113: SourceChangeWarning: source code of class 'torch.nn.modules.linear.Linear' has changed. you can retrieve the original source code by accessing the object's source attribute or set `torch.nn.Module.dump_patches = True` and use the patch tool to revert the changes.\n",
      "  warnings.warn(msg, SourceChangeWarning)\n",
      "C:\\Users\\navid\\anaconda3\\envs\\myenv\\lib\\site-packages\\torch\\serialization.py:1113: SourceChangeWarning: source code of class 'torch.nn.modules.activation.ReLU' has changed. you can retrieve the original source code by accessing the object's source attribute or set `torch.nn.Module.dump_patches = True` and use the patch tool to revert the changes.\n",
      "  warnings.warn(msg, SourceChangeWarning)\n",
      "grad_poly: 100%|██████████| 8000/8000.0 [00:01<00:00, 5356.62it/s]\n",
      "h_poly:  98%|█████████▊| 295240/302621 [34:01<00:51, 144.62it/s] \n"
     ]
    },
    {
     "name": "stdout",
     "output_type": "stream",
     "text": [
      "Set parameter Username\n",
      "Academic license - for non-commercial use only - expires 2025-07-26\n"
     ]
    },
    {
     "name": "stderr",
     "output_type": "stream",
     "text": [
      "constraints: 100%|██████████| 39711/39711 [00:53<00:00, 743.37it/s] \n"
     ]
    },
    {
     "name": "stdout",
     "output_type": "stream",
     "text": [
      "time elapsed:  2119.2888771\n",
      "LP BOUND:  3.3042758119483606\n",
      "LOWER BOUND PRODUCT:  3.9866182352578856\n",
      "UPPER BOUND PRODUCT:  95.20458577299128\n"
     ]
    },
    {
     "name": "stderr",
     "output_type": "stream",
     "text": [
      "grad_poly: 100%|██████████| 8000/8000.0 [00:01<00:00, 5131.82it/s]\n",
      "h_poly:   2%|▏         | 5770/302621 [00:30<33:43, 146.70it/s]"
     ]
    }
   ],
   "source": [
    "from new_compare_lp_naive_serial import compare_bounds\n",
    "import numpy as np\n",
    "import torch\n",
    "import torch.nn as nn\n",
    "from functions import generate_random_net, export2matlab\n",
    "\n",
    "layer_configs = [(20, 20, 20, 1), ]\n",
    "layer_config=layer_configs[0]\n",
    "\n",
    "net=torch.load('Comparison.pt')\n",
    "\n",
    "\n",
    "epsis = np.array([0.001, 0.003, 0.007, 0.01, 0.04, 0.1, 0.3, 0.7, 2])\n",
    "\n",
    "for _ in epsis:\n",
    "    \n",
    "    X = torch.Tensor(np.zeros((layer_config[0],1)))\n",
    "    epsilon=torch.Tensor([_])\n",
    "    epsilon=epsilon*np.ones(X.shape)\n",
    "    repeats = 1\n",
    "\n",
    "    compare_bounds(layer_configs,net,X,epsilon,repeats)"
   ]
  }
 ],
 "metadata": {
  "kernelspec": {
   "display_name": "Python 3 (ipykernel)",
   "language": "python",
   "name": "python3"
  },
  "language_info": {
   "codemirror_mode": {
    "name": "ipython",
    "version": 3
   },
   "file_extension": ".py",
   "mimetype": "text/x-python",
   "name": "python",
   "nbconvert_exporter": "python",
   "pygments_lexer": "ipython3",
   "version": "3.10.13"
  }
 },
 "nbformat": 4,
 "nbformat_minor": 4
}
